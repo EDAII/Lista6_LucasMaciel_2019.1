{
 "cells": [
  {
   "cell_type": "code",
   "execution_count": 5,
   "metadata": {},
   "outputs": [
    {
     "name": "stdout",
     "output_type": "stream",
     "text": [
      "['https://www.unb.br/images/mprazer.pdf', '']\n"
     ]
    }
   ],
   "source": [
    "import re\n",
    "\n",
    "string = 'https://www.unb.br/images/mprazer.pdf'\n",
    "\n",
    "regex = re.compile(r'\"https?://\\S+\"')\n",
    "\n",
    "regex = re.compile(r'.*unb.*')\n",
    "\n",
    "regex = re.findall(regex, str(string))\n",
    "print(regex)"
   ]
  }
 ],
 "metadata": {
  "kernelspec": {
   "display_name": "Python 3",
   "language": "python",
   "name": "python3"
  },
  "language_info": {
   "codemirror_mode": {
    "name": "ipython",
    "version": 3
   },
   "file_extension": ".py",
   "mimetype": "text/x-python",
   "name": "python",
   "nbconvert_exporter": "python",
   "pygments_lexer": "ipython3",
   "version": "3.6.7"
  }
 },
 "nbformat": 4,
 "nbformat_minor": 2
}
